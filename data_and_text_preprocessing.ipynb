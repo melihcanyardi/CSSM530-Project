{
 "cells": [
  {
   "cell_type": "markdown",
   "id": "b447f4e2",
   "metadata": {},
   "source": [
    "# Data and Text Preprocessing"
   ]
  },
  {
   "cell_type": "code",
   "execution_count": 1,
   "id": "99a2ab67",
   "metadata": {},
   "outputs": [],
   "source": [
    "import pandas as pd"
   ]
  },
  {
   "cell_type": "code",
   "execution_count": 2,
   "id": "0756ea66",
   "metadata": {},
   "outputs": [],
   "source": [
    "all_annotators = pd.read_csv(\"annotations_all_annotators.csv\")\n",
    "final_annotator = pd.read_csv(\"annotations_final_annotator.csv\")"
   ]
  },
  {
   "cell_type": "code",
   "execution_count": 3,
   "id": "b78ca537",
   "metadata": {},
   "outputs": [],
   "source": [
    "ideologies = ['Turkish_Nationalism', 'Conservatism', 'Islamism', 'Liberalism', 'Kemalism']"
   ]
  },
  {
   "cell_type": "markdown",
   "id": "1b904dba",
   "metadata": {},
   "source": [
    "## Data Preprocessing"
   ]
  },
  {
   "cell_type": "code",
   "execution_count": 4,
   "id": "e72914ff",
   "metadata": {},
   "outputs": [
    {
     "data": {
      "text/html": [
       "<div>\n",
       "<style scoped>\n",
       "    .dataframe tbody tr th:only-of-type {\n",
       "        vertical-align: middle;\n",
       "    }\n",
       "\n",
       "    .dataframe tbody tr th {\n",
       "        vertical-align: top;\n",
       "    }\n",
       "\n",
       "    .dataframe thead th {\n",
       "        text-align: right;\n",
       "    }\n",
       "</style>\n",
       "<table border=\"1\" class=\"dataframe\">\n",
       "  <thead>\n",
       "    <tr style=\"text-align: right;\">\n",
       "      <th></th>\n",
       "      <th>Annotator</th>\n",
       "      <th>#</th>\n",
       "      <th>created_at</th>\n",
       "      <th>id_str</th>\n",
       "      <th>user_id_str</th>\n",
       "      <th>user_name</th>\n",
       "      <th>user_screen_name</th>\n",
       "      <th>user_location</th>\n",
       "      <th>user_description</th>\n",
       "      <th>user_created_at</th>\n",
       "      <th>created_at_year</th>\n",
       "      <th>created_at_month</th>\n",
       "      <th>created_at_day</th>\n",
       "      <th>full_text</th>\n",
       "      <th>Turkish_Nationalism</th>\n",
       "      <th>Conservatism</th>\n",
       "      <th>Islamism</th>\n",
       "      <th>Liberalism</th>\n",
       "      <th>Kemalism</th>\n",
       "    </tr>\n",
       "  </thead>\n",
       "  <tbody>\n",
       "    <tr>\n",
       "      <th>0</th>\n",
       "      <td>Multiple</td>\n",
       "      <td>1</td>\n",
       "      <td>2021-08-18 11:38:30+00:00</td>\n",
       "      <td>1427958076259377160</td>\n",
       "      <td>351646870</td>\n",
       "      <td>Bülent USLU</td>\n",
       "      <td>bulentuslu1903</td>\n",
       "      <td>İSTANBUL</td>\n",
       "      <td>🦅Beşiktaş Kongre Üyesi🦅🤍🖤</td>\n",
       "      <td>2011-08-09 15:05:57+00:00</td>\n",
       "      <td>2021</td>\n",
       "      <td>8</td>\n",
       "      <td>18</td>\n",
       "      <td>Caner’in dudak okumasıyla ettiği küfürler için...</td>\n",
       "      <td>0</td>\n",
       "      <td>0</td>\n",
       "      <td>0</td>\n",
       "      <td>0</td>\n",
       "      <td>0</td>\n",
       "    </tr>\n",
       "    <tr>\n",
       "      <th>1</th>\n",
       "      <td>Multiple</td>\n",
       "      <td>2</td>\n",
       "      <td>2013-05-03 18:22:37+00:00</td>\n",
       "      <td>330386930283978753</td>\n",
       "      <td>460548834</td>\n",
       "      <td>hasan bora</td>\n",
       "      <td>pasivat</td>\n",
       "      <td>suadiye</td>\n",
       "      <td>https://t.co/HZ3jPWGoZH</td>\n",
       "      <td>2012-01-10 21:45:27+00:00</td>\n",
       "      <td>2013</td>\n",
       "      <td>5</td>\n",
       "      <td>3</td>\n",
       "      <td>Herkese iyi akşamlar hafta sonunuz çok çok güz...</td>\n",
       "      <td>0</td>\n",
       "      <td>0</td>\n",
       "      <td>0</td>\n",
       "      <td>0</td>\n",
       "      <td>0</td>\n",
       "    </tr>\n",
       "    <tr>\n",
       "      <th>2</th>\n",
       "      <td>Multiple</td>\n",
       "      <td>3</td>\n",
       "      <td>2021-03-09 19:03:18+00:00</td>\n",
       "      <td>1369363182683381764</td>\n",
       "      <td>888342558182711297</td>\n",
       "      <td>İbrahim Yıldız</td>\n",
       "      <td>Stratejist_57</td>\n",
       "      <td>NaN</td>\n",
       "      <td>YarımKalmışHukukHikayesi</td>\n",
       "      <td>2017-07-21 10:19:05+00:00</td>\n",
       "      <td>2021</td>\n",
       "      <td>3</td>\n",
       "      <td>9</td>\n",
       "      <td>82 yaşında alzheimer hastası bir insanı bile c...</td>\n",
       "      <td>0</td>\n",
       "      <td>0</td>\n",
       "      <td>0</td>\n",
       "      <td>2</td>\n",
       "      <td>0</td>\n",
       "    </tr>\n",
       "  </tbody>\n",
       "</table>\n",
       "</div>"
      ],
      "text/plain": [
       "  Annotator  #                 created_at               id_str  \\\n",
       "0  Multiple  1  2021-08-18 11:38:30+00:00  1427958076259377160   \n",
       "1  Multiple  2  2013-05-03 18:22:37+00:00   330386930283978753   \n",
       "2  Multiple  3  2021-03-09 19:03:18+00:00  1369363182683381764   \n",
       "\n",
       "          user_id_str       user_name user_screen_name user_location  \\\n",
       "0           351646870     Bülent USLU   bulentuslu1903      İSTANBUL   \n",
       "1           460548834      hasan bora          pasivat       suadiye   \n",
       "2  888342558182711297  İbrahim Yıldız    Stratejist_57           NaN   \n",
       "\n",
       "            user_description            user_created_at  created_at_year  \\\n",
       "0  🦅Beşiktaş Kongre Üyesi🦅🤍🖤  2011-08-09 15:05:57+00:00             2021   \n",
       "1    https://t.co/HZ3jPWGoZH  2012-01-10 21:45:27+00:00             2013   \n",
       "2   YarımKalmışHukukHikayesi  2017-07-21 10:19:05+00:00             2021   \n",
       "\n",
       "   created_at_month  created_at_day  \\\n",
       "0                 8              18   \n",
       "1                 5               3   \n",
       "2                 3               9   \n",
       "\n",
       "                                           full_text  Turkish_Nationalism  \\\n",
       "0  Caner’in dudak okumasıyla ettiği küfürler için...                    0   \n",
       "1  Herkese iyi akşamlar hafta sonunuz çok çok güz...                    0   \n",
       "2  82 yaşında alzheimer hastası bir insanı bile c...                    0   \n",
       "\n",
       "   Conservatism  Islamism  Liberalism  Kemalism  \n",
       "0             0         0           0         0  \n",
       "1             0         0           0         0  \n",
       "2             0         0           2         0  "
      ]
     },
     "execution_count": 4,
     "metadata": {},
     "output_type": "execute_result"
    }
   ],
   "source": [
    "all_annotators.head(3)"
   ]
  },
  {
   "cell_type": "code",
   "execution_count": 5,
   "id": "bbc39339",
   "metadata": {},
   "outputs": [
    {
     "data": {
      "text/html": [
       "<div>\n",
       "<style scoped>\n",
       "    .dataframe tbody tr th:only-of-type {\n",
       "        vertical-align: middle;\n",
       "    }\n",
       "\n",
       "    .dataframe tbody tr th {\n",
       "        vertical-align: top;\n",
       "    }\n",
       "\n",
       "    .dataframe thead th {\n",
       "        text-align: right;\n",
       "    }\n",
       "</style>\n",
       "<table border=\"1\" class=\"dataframe\">\n",
       "  <thead>\n",
       "    <tr style=\"text-align: right;\">\n",
       "      <th></th>\n",
       "      <th>Annotator</th>\n",
       "      <th>#</th>\n",
       "      <th>created_at</th>\n",
       "      <th>id_str</th>\n",
       "      <th>user_id_str</th>\n",
       "      <th>user_name</th>\n",
       "      <th>user_screen_name</th>\n",
       "      <th>user_location</th>\n",
       "      <th>user_description</th>\n",
       "      <th>user_created_at</th>\n",
       "      <th>created_at_year</th>\n",
       "      <th>created_at_month</th>\n",
       "      <th>created_at_day</th>\n",
       "      <th>full_text</th>\n",
       "      <th>Turkish_Nationalism</th>\n",
       "      <th>Conservatism</th>\n",
       "      <th>Islamism</th>\n",
       "      <th>Liberalism</th>\n",
       "      <th>Kemalism</th>\n",
       "    </tr>\n",
       "  </thead>\n",
       "  <tbody>\n",
       "    <tr>\n",
       "      <th>0</th>\n",
       "      <td>final</td>\n",
       "      <td>1</td>\n",
       "      <td>2021-08-18 11:38:30+00:00</td>\n",
       "      <td>1427958076259377160</td>\n",
       "      <td>351646870</td>\n",
       "      <td>Bülent USLU</td>\n",
       "      <td>bulentuslu1903</td>\n",
       "      <td>İSTANBUL</td>\n",
       "      <td>🦅Beşiktaş Kongre Üyesi🦅🤍🖤</td>\n",
       "      <td>2011-08-09 15:05:57+00:00</td>\n",
       "      <td>2021</td>\n",
       "      <td>8</td>\n",
       "      <td>18</td>\n",
       "      <td>Caner’in dudak okumasıyla ettiği küfürler için...</td>\n",
       "      <td>0</td>\n",
       "      <td>0</td>\n",
       "      <td>0</td>\n",
       "      <td>0</td>\n",
       "      <td>0</td>\n",
       "    </tr>\n",
       "    <tr>\n",
       "      <th>1</th>\n",
       "      <td>final</td>\n",
       "      <td>2</td>\n",
       "      <td>2013-05-03 18:22:37+00:00</td>\n",
       "      <td>330386930283978753</td>\n",
       "      <td>460548834</td>\n",
       "      <td>hasan bora</td>\n",
       "      <td>pasivat</td>\n",
       "      <td>suadiye</td>\n",
       "      <td>https://t.co/HZ3jPWGoZH</td>\n",
       "      <td>2012-01-10 21:45:27+00:00</td>\n",
       "      <td>2013</td>\n",
       "      <td>5</td>\n",
       "      <td>3</td>\n",
       "      <td>Herkese iyi akşamlar hafta sonunuz çok çok güz...</td>\n",
       "      <td>0</td>\n",
       "      <td>0</td>\n",
       "      <td>0</td>\n",
       "      <td>0</td>\n",
       "      <td>0</td>\n",
       "    </tr>\n",
       "    <tr>\n",
       "      <th>2</th>\n",
       "      <td>final</td>\n",
       "      <td>3</td>\n",
       "      <td>2021-03-09 19:03:18+00:00</td>\n",
       "      <td>1369363182683381764</td>\n",
       "      <td>888342558182711297</td>\n",
       "      <td>İbrahim Yıldız</td>\n",
       "      <td>Stratejist_57</td>\n",
       "      <td>NaN</td>\n",
       "      <td>YarımKalmışHukukHikayesi</td>\n",
       "      <td>2017-07-21 10:19:05+00:00</td>\n",
       "      <td>2021</td>\n",
       "      <td>3</td>\n",
       "      <td>9</td>\n",
       "      <td>82 yaşında alzheimer hastası bir insanı bile c...</td>\n",
       "      <td>0</td>\n",
       "      <td>0</td>\n",
       "      <td>0</td>\n",
       "      <td>1</td>\n",
       "      <td>0</td>\n",
       "    </tr>\n",
       "  </tbody>\n",
       "</table>\n",
       "</div>"
      ],
      "text/plain": [
       "  Annotator  #                 created_at               id_str  \\\n",
       "0     final  1  2021-08-18 11:38:30+00:00  1427958076259377160   \n",
       "1     final  2  2013-05-03 18:22:37+00:00   330386930283978753   \n",
       "2     final  3  2021-03-09 19:03:18+00:00  1369363182683381764   \n",
       "\n",
       "          user_id_str       user_name user_screen_name user_location  \\\n",
       "0           351646870     Bülent USLU   bulentuslu1903      İSTANBUL   \n",
       "1           460548834      hasan bora          pasivat       suadiye   \n",
       "2  888342558182711297  İbrahim Yıldız    Stratejist_57           NaN   \n",
       "\n",
       "            user_description            user_created_at  created_at_year  \\\n",
       "0  🦅Beşiktaş Kongre Üyesi🦅🤍🖤  2011-08-09 15:05:57+00:00             2021   \n",
       "1    https://t.co/HZ3jPWGoZH  2012-01-10 21:45:27+00:00             2013   \n",
       "2   YarımKalmışHukukHikayesi  2017-07-21 10:19:05+00:00             2021   \n",
       "\n",
       "   created_at_month  created_at_day  \\\n",
       "0                 8              18   \n",
       "1                 5               3   \n",
       "2                 3               9   \n",
       "\n",
       "                                           full_text  Turkish_Nationalism  \\\n",
       "0  Caner’in dudak okumasıyla ettiği küfürler için...                    0   \n",
       "1  Herkese iyi akşamlar hafta sonunuz çok çok güz...                    0   \n",
       "2  82 yaşında alzheimer hastası bir insanı bile c...                    0   \n",
       "\n",
       "   Conservatism  Islamism  Liberalism  Kemalism  \n",
       "0             0         0           0         0  \n",
       "1             0         0           0         0  \n",
       "2             0         0           1         0  "
      ]
     },
     "execution_count": 5,
     "metadata": {},
     "output_type": "execute_result"
    }
   ],
   "source": [
    "final_annotator.head(3)"
   ]
  },
  {
   "cell_type": "code",
   "execution_count": 6,
   "id": "c6f5c783",
   "metadata": {},
   "outputs": [
    {
     "data": {
      "text/plain": [
       "(24100, 19)"
      ]
     },
     "execution_count": 6,
     "metadata": {},
     "output_type": "execute_result"
    }
   ],
   "source": [
    "all_annotators.shape"
   ]
  },
  {
   "cell_type": "code",
   "execution_count": 7,
   "id": "8cfe0cbc",
   "metadata": {},
   "outputs": [
    {
     "data": {
      "text/plain": [
       "(24100, 19)"
      ]
     },
     "execution_count": 7,
     "metadata": {},
     "output_type": "execute_result"
    }
   ],
   "source": [
    "final_annotator.shape"
   ]
  },
  {
   "cell_type": "code",
   "execution_count": 8,
   "id": "ba6f4075",
   "metadata": {},
   "outputs": [
    {
     "name": "stdout",
     "output_type": "stream",
     "text": [
      "<class 'pandas.core.frame.DataFrame'>\n",
      "RangeIndex: 24100 entries, 0 to 24099\n",
      "Data columns (total 19 columns):\n",
      " #   Column               Non-Null Count  Dtype \n",
      "---  ------               --------------  ----- \n",
      " 0   Annotator            24100 non-null  object\n",
      " 1   #                    24100 non-null  int64 \n",
      " 2   created_at           24100 non-null  object\n",
      " 3   id_str               24100 non-null  int64 \n",
      " 4   user_id_str          24100 non-null  int64 \n",
      " 5   user_name            24100 non-null  object\n",
      " 6   user_screen_name     24100 non-null  object\n",
      " 7   user_location        15296 non-null  object\n",
      " 8   user_description     18878 non-null  object\n",
      " 9   user_created_at      24100 non-null  object\n",
      " 10  created_at_year      24100 non-null  int64 \n",
      " 11  created_at_month     24100 non-null  int64 \n",
      " 12  created_at_day       24100 non-null  int64 \n",
      " 13  full_text            24100 non-null  object\n",
      " 14  Turkish_Nationalism  24100 non-null  int64 \n",
      " 15  Conservatism         24100 non-null  int64 \n",
      " 16  Islamism             24100 non-null  int64 \n",
      " 17  Liberalism           24100 non-null  int64 \n",
      " 18  Kemalism             24100 non-null  int64 \n",
      "dtypes: int64(11), object(8)\n",
      "memory usage: 3.5+ MB\n"
     ]
    }
   ],
   "source": [
    "all_annotators.info()"
   ]
  },
  {
   "cell_type": "code",
   "execution_count": 9,
   "id": "0aed2a27",
   "metadata": {},
   "outputs": [
    {
     "name": "stdout",
     "output_type": "stream",
     "text": [
      "<class 'pandas.core.frame.DataFrame'>\n",
      "RangeIndex: 24100 entries, 0 to 24099\n",
      "Data columns (total 19 columns):\n",
      " #   Column               Non-Null Count  Dtype \n",
      "---  ------               --------------  ----- \n",
      " 0   Annotator            24100 non-null  object\n",
      " 1   #                    24100 non-null  int64 \n",
      " 2   created_at           24100 non-null  object\n",
      " 3   id_str               24100 non-null  int64 \n",
      " 4   user_id_str          24100 non-null  int64 \n",
      " 5   user_name            24100 non-null  object\n",
      " 6   user_screen_name     24100 non-null  object\n",
      " 7   user_location        15296 non-null  object\n",
      " 8   user_description     18878 non-null  object\n",
      " 9   user_created_at      24100 non-null  object\n",
      " 10  created_at_year      24100 non-null  int64 \n",
      " 11  created_at_month     24100 non-null  int64 \n",
      " 12  created_at_day       24100 non-null  int64 \n",
      " 13  full_text            24100 non-null  object\n",
      " 14  Turkish_Nationalism  24100 non-null  int64 \n",
      " 15  Conservatism         24100 non-null  int64 \n",
      " 16  Islamism             24100 non-null  int64 \n",
      " 17  Liberalism           24100 non-null  int64 \n",
      " 18  Kemalism             24100 non-null  int64 \n",
      "dtypes: int64(11), object(8)\n",
      "memory usage: 3.5+ MB\n"
     ]
    }
   ],
   "source": [
    "final_annotator.info()"
   ]
  },
  {
   "cell_type": "markdown",
   "id": "7e3f071c",
   "metadata": {},
   "source": [
    "- **final_annotator** data set has only 0s and 1s for each ideology, but multiple ideology labels can have the value 1 (i.e., it is a multi-class multi-label problem at this point, but I will remove the ones with multiple labels to make it into a multi-class problem only).\n",
    "- **all_annotators** data set has three labels for each ideology; “2” if annotators agree that the tweet is relevant to that ideology, “1” if they disagree, and “0” if they agree that tweet is irrelevant."
   ]
  },
  {
   "cell_type": "code",
   "execution_count": 10,
   "id": "656f1713",
   "metadata": {},
   "outputs": [],
   "source": [
    "### Drop rows with value 1 in \"all_annotators\" data set --> Only annotations where both annotators agree\n",
    "### This option is more robust, but highly reduces the counts of positive annotation in the data set (~900 tweets)\n",
    "#\n",
    "#indexes_to_drop_in_all_annotators = []\n",
    "#\n",
    "#for ideology in ideologies:\n",
    "#    indexes_to_drop_in_all_annotators.extend(list(all_annotators[all_annotators[ideology] == 1].index))\n",
    "#    \n",
    "#indexes_to_drop_in_all_annotators = sorted(list(set(indexes_to_drop_in_all_annotators)))\n",
    "#\n",
    "#all_annotators = all_annotators.drop(indexes_to_drop_in_all_annotators).reset_index(drop=True)"
   ]
  },
  {
   "cell_type": "code",
   "execution_count": 11,
   "id": "f806d964",
   "metadata": {},
   "outputs": [],
   "source": [
    "## Convert values of 2 into 1 in \"all_annotators\" data set --> If any of the tweets are annotated by one of the annotator as\n",
    "## \"relevant\", then regard it as \"relevant\"\n",
    "\n",
    "all_annotators.iloc[:, -5:] = all_annotators.iloc[:, -5:].replace(to_replace=2, value=1)"
   ]
  },
  {
   "cell_type": "code",
   "execution_count": 12,
   "id": "0601eb5b",
   "metadata": {},
   "outputs": [],
   "source": [
    "# Dropping rows with multiple ideology annotations in \"all_annotators\"\n",
    "multiple_annotation_indices_all_annotators = sorted(list(all_annotators.iloc[:, -5:].sum(axis=1)[all_annotators.iloc[:, -5:].sum(axis=1) > 1].index))\n",
    "\n",
    "all_annotators = all_annotators.drop(multiple_annotation_indices_all_annotators).reset_index(drop=True)"
   ]
  },
  {
   "cell_type": "code",
   "execution_count": 13,
   "id": "13b4b057",
   "metadata": {},
   "outputs": [],
   "source": [
    "# Dropping rows with multiple ideology annotations in \"final_annotator\"\n",
    "multiple_annotation_indices_final_annotator = sorted(list(final_annotator.iloc[:, -5:].sum(axis=1)[final_annotator.iloc[:, -5:].sum(axis=1) > 1].index))\n",
    "\n",
    "final_annotator = final_annotator.drop(multiple_annotation_indices_final_annotator).reset_index(drop=True)"
   ]
  },
  {
   "cell_type": "markdown",
   "id": "5bb42c84",
   "metadata": {},
   "source": [
    "- Now, all tweets in both dataset has only one ideology annotation, multiples are removed.\n",
    "\n",
    "- I will create a single \"label\" column by combining separate ideology columns."
   ]
  },
  {
   "cell_type": "code",
   "execution_count": 14,
   "id": "f1040def",
   "metadata": {},
   "outputs": [],
   "source": [
    "def create_label_column(df, row):\n",
    "    return_val = \"\"\n",
    "    for ideology in ideologies:\n",
    "        if df.loc[row, ideology] == 1:\n",
    "            return_val = ideology\n",
    "    \n",
    "    if return_val == \"\":\n",
    "        return_val = \"No_ideology\"\n",
    "        \n",
    "    return return_val"
   ]
  },
  {
   "cell_type": "code",
   "execution_count": 15,
   "id": "a24aa706",
   "metadata": {},
   "outputs": [],
   "source": [
    "final_annotator_labels = []\n",
    "\n",
    "for i in range(len(final_annotator)):\n",
    "    final_annotator_labels.append(create_label_column(final_annotator, i))\n",
    "    \n",
    "final_annotator = pd.concat([final_annotator.iloc[:, :-5], pd.Series(final_annotator_labels, name=\"label\")], axis=1)"
   ]
  },
  {
   "cell_type": "code",
   "execution_count": 16,
   "id": "3a43194f",
   "metadata": {},
   "outputs": [],
   "source": [
    "all_annotators_labels = []\n",
    "\n",
    "for i in range(len(all_annotators)):\n",
    "    all_annotators_labels.append(create_label_column(all_annotators, i))\n",
    "    \n",
    "all_annotators = pd.concat([all_annotators.iloc[:, :-5], pd.Series(all_annotators_labels, name=\"label\")], axis=1)"
   ]
  },
  {
   "cell_type": "code",
   "execution_count": 17,
   "id": "7f39583b",
   "metadata": {},
   "outputs": [
    {
     "data": {
      "text/plain": [
       "(23462, 15)"
      ]
     },
     "execution_count": 17,
     "metadata": {},
     "output_type": "execute_result"
    }
   ],
   "source": [
    "final_annotator.shape"
   ]
  },
  {
   "cell_type": "code",
   "execution_count": 18,
   "id": "330ab186",
   "metadata": {},
   "outputs": [
    {
     "data": {
      "text/plain": [
       "(23372, 15)"
      ]
     },
     "execution_count": 18,
     "metadata": {},
     "output_type": "execute_result"
    }
   ],
   "source": [
    "all_annotators.shape"
   ]
  },
  {
   "cell_type": "code",
   "execution_count": 19,
   "id": "a60f4b3a",
   "metadata": {},
   "outputs": [
    {
     "name": "stdout",
     "output_type": "stream",
     "text": [
      "Number of tweets that in the set difference of two datasets: 92\n"
     ]
    }
   ],
   "source": [
    "print(f\"Number of tweets that in the set difference of two datasets: {len(set(final_annotator['#']).difference(set(all_annotators['#'])))}\")"
   ]
  },
  {
   "cell_type": "markdown",
   "id": "ae29c89c",
   "metadata": {},
   "source": [
    "- I want to keep the same tweets for both data sets since their set difference is very small, therefore I will use the common tweet numbers from \"#\" column."
   ]
  },
  {
   "cell_type": "code",
   "execution_count": 20,
   "id": "3f904e5b",
   "metadata": {},
   "outputs": [],
   "source": [
    "common_tweet_nums = sorted(list(set(final_annotator[\"#\"]).intersection(set(all_annotators[\"#\"]))))"
   ]
  },
  {
   "cell_type": "code",
   "execution_count": 21,
   "id": "f6b5cc60",
   "metadata": {},
   "outputs": [],
   "source": [
    "final_annotator = final_annotator[final_annotator[\"#\"].isin(common_tweet_nums)].reset_index(drop=True)\n",
    "all_annotators = all_annotators[all_annotators[\"#\"].isin(common_tweet_nums)].reset_index(drop=True)"
   ]
  },
  {
   "cell_type": "code",
   "execution_count": 22,
   "id": "ae693421",
   "metadata": {},
   "outputs": [
    {
     "data": {
      "text/html": [
       "<div>\n",
       "<style scoped>\n",
       "    .dataframe tbody tr th:only-of-type {\n",
       "        vertical-align: middle;\n",
       "    }\n",
       "\n",
       "    .dataframe tbody tr th {\n",
       "        vertical-align: top;\n",
       "    }\n",
       "\n",
       "    .dataframe thead th {\n",
       "        text-align: right;\n",
       "    }\n",
       "</style>\n",
       "<table border=\"1\" class=\"dataframe\">\n",
       "  <thead>\n",
       "    <tr style=\"text-align: right;\">\n",
       "      <th></th>\n",
       "      <th>Annotator</th>\n",
       "      <th>#</th>\n",
       "      <th>created_at</th>\n",
       "      <th>id_str</th>\n",
       "      <th>user_id_str</th>\n",
       "      <th>user_name</th>\n",
       "      <th>user_screen_name</th>\n",
       "      <th>user_location</th>\n",
       "      <th>user_description</th>\n",
       "      <th>user_created_at</th>\n",
       "      <th>created_at_year</th>\n",
       "      <th>created_at_month</th>\n",
       "      <th>created_at_day</th>\n",
       "      <th>full_text</th>\n",
       "      <th>label</th>\n",
       "    </tr>\n",
       "  </thead>\n",
       "  <tbody>\n",
       "    <tr>\n",
       "      <th>0</th>\n",
       "      <td>Multiple</td>\n",
       "      <td>1</td>\n",
       "      <td>2021-08-18 11:38:30+00:00</td>\n",
       "      <td>1427958076259377160</td>\n",
       "      <td>351646870</td>\n",
       "      <td>Bülent USLU</td>\n",
       "      <td>bulentuslu1903</td>\n",
       "      <td>İSTANBUL</td>\n",
       "      <td>🦅Beşiktaş Kongre Üyesi🦅🤍🖤</td>\n",
       "      <td>2011-08-09 15:05:57+00:00</td>\n",
       "      <td>2021</td>\n",
       "      <td>8</td>\n",
       "      <td>18</td>\n",
       "      <td>Caner’in dudak okumasıyla ettiği küfürler için...</td>\n",
       "      <td>No_ideology</td>\n",
       "    </tr>\n",
       "    <tr>\n",
       "      <th>1</th>\n",
       "      <td>Multiple</td>\n",
       "      <td>2</td>\n",
       "      <td>2013-05-03 18:22:37+00:00</td>\n",
       "      <td>330386930283978753</td>\n",
       "      <td>460548834</td>\n",
       "      <td>hasan bora</td>\n",
       "      <td>pasivat</td>\n",
       "      <td>suadiye</td>\n",
       "      <td>https://t.co/HZ3jPWGoZH</td>\n",
       "      <td>2012-01-10 21:45:27+00:00</td>\n",
       "      <td>2013</td>\n",
       "      <td>5</td>\n",
       "      <td>3</td>\n",
       "      <td>Herkese iyi akşamlar hafta sonunuz çok çok güz...</td>\n",
       "      <td>No_ideology</td>\n",
       "    </tr>\n",
       "    <tr>\n",
       "      <th>2</th>\n",
       "      <td>Multiple</td>\n",
       "      <td>3</td>\n",
       "      <td>2021-03-09 19:03:18+00:00</td>\n",
       "      <td>1369363182683381764</td>\n",
       "      <td>888342558182711297</td>\n",
       "      <td>İbrahim Yıldız</td>\n",
       "      <td>Stratejist_57</td>\n",
       "      <td>NaN</td>\n",
       "      <td>YarımKalmışHukukHikayesi</td>\n",
       "      <td>2017-07-21 10:19:05+00:00</td>\n",
       "      <td>2021</td>\n",
       "      <td>3</td>\n",
       "      <td>9</td>\n",
       "      <td>82 yaşında alzheimer hastası bir insanı bile c...</td>\n",
       "      <td>Liberalism</td>\n",
       "    </tr>\n",
       "  </tbody>\n",
       "</table>\n",
       "</div>"
      ],
      "text/plain": [
       "  Annotator  #                 created_at               id_str  \\\n",
       "0  Multiple  1  2021-08-18 11:38:30+00:00  1427958076259377160   \n",
       "1  Multiple  2  2013-05-03 18:22:37+00:00   330386930283978753   \n",
       "2  Multiple  3  2021-03-09 19:03:18+00:00  1369363182683381764   \n",
       "\n",
       "          user_id_str       user_name user_screen_name user_location  \\\n",
       "0           351646870     Bülent USLU   bulentuslu1903      İSTANBUL   \n",
       "1           460548834      hasan bora          pasivat       suadiye   \n",
       "2  888342558182711297  İbrahim Yıldız    Stratejist_57           NaN   \n",
       "\n",
       "            user_description            user_created_at  created_at_year  \\\n",
       "0  🦅Beşiktaş Kongre Üyesi🦅🤍🖤  2011-08-09 15:05:57+00:00             2021   \n",
       "1    https://t.co/HZ3jPWGoZH  2012-01-10 21:45:27+00:00             2013   \n",
       "2   YarımKalmışHukukHikayesi  2017-07-21 10:19:05+00:00             2021   \n",
       "\n",
       "   created_at_month  created_at_day  \\\n",
       "0                 8              18   \n",
       "1                 5               3   \n",
       "2                 3               9   \n",
       "\n",
       "                                           full_text        label  \n",
       "0  Caner’in dudak okumasıyla ettiği küfürler için...  No_ideology  \n",
       "1  Herkese iyi akşamlar hafta sonunuz çok çok güz...  No_ideology  \n",
       "2  82 yaşında alzheimer hastası bir insanı bile c...   Liberalism  "
      ]
     },
     "execution_count": 22,
     "metadata": {},
     "output_type": "execute_result"
    }
   ],
   "source": [
    "all_annotators.head(3)"
   ]
  },
  {
   "cell_type": "code",
   "execution_count": 23,
   "id": "54d40a48",
   "metadata": {},
   "outputs": [
    {
     "data": {
      "text/html": [
       "<div>\n",
       "<style scoped>\n",
       "    .dataframe tbody tr th:only-of-type {\n",
       "        vertical-align: middle;\n",
       "    }\n",
       "\n",
       "    .dataframe tbody tr th {\n",
       "        vertical-align: top;\n",
       "    }\n",
       "\n",
       "    .dataframe thead th {\n",
       "        text-align: right;\n",
       "    }\n",
       "</style>\n",
       "<table border=\"1\" class=\"dataframe\">\n",
       "  <thead>\n",
       "    <tr style=\"text-align: right;\">\n",
       "      <th></th>\n",
       "      <th>Annotator</th>\n",
       "      <th>#</th>\n",
       "      <th>created_at</th>\n",
       "      <th>id_str</th>\n",
       "      <th>user_id_str</th>\n",
       "      <th>user_name</th>\n",
       "      <th>user_screen_name</th>\n",
       "      <th>user_location</th>\n",
       "      <th>user_description</th>\n",
       "      <th>user_created_at</th>\n",
       "      <th>created_at_year</th>\n",
       "      <th>created_at_month</th>\n",
       "      <th>created_at_day</th>\n",
       "      <th>full_text</th>\n",
       "      <th>label</th>\n",
       "    </tr>\n",
       "  </thead>\n",
       "  <tbody>\n",
       "    <tr>\n",
       "      <th>0</th>\n",
       "      <td>final</td>\n",
       "      <td>1</td>\n",
       "      <td>2021-08-18 11:38:30+00:00</td>\n",
       "      <td>1427958076259377160</td>\n",
       "      <td>351646870</td>\n",
       "      <td>Bülent USLU</td>\n",
       "      <td>bulentuslu1903</td>\n",
       "      <td>İSTANBUL</td>\n",
       "      <td>🦅Beşiktaş Kongre Üyesi🦅🤍🖤</td>\n",
       "      <td>2011-08-09 15:05:57+00:00</td>\n",
       "      <td>2021</td>\n",
       "      <td>8</td>\n",
       "      <td>18</td>\n",
       "      <td>Caner’in dudak okumasıyla ettiği küfürler için...</td>\n",
       "      <td>No_ideology</td>\n",
       "    </tr>\n",
       "    <tr>\n",
       "      <th>1</th>\n",
       "      <td>final</td>\n",
       "      <td>2</td>\n",
       "      <td>2013-05-03 18:22:37+00:00</td>\n",
       "      <td>330386930283978753</td>\n",
       "      <td>460548834</td>\n",
       "      <td>hasan bora</td>\n",
       "      <td>pasivat</td>\n",
       "      <td>suadiye</td>\n",
       "      <td>https://t.co/HZ3jPWGoZH</td>\n",
       "      <td>2012-01-10 21:45:27+00:00</td>\n",
       "      <td>2013</td>\n",
       "      <td>5</td>\n",
       "      <td>3</td>\n",
       "      <td>Herkese iyi akşamlar hafta sonunuz çok çok güz...</td>\n",
       "      <td>No_ideology</td>\n",
       "    </tr>\n",
       "    <tr>\n",
       "      <th>2</th>\n",
       "      <td>final</td>\n",
       "      <td>3</td>\n",
       "      <td>2021-03-09 19:03:18+00:00</td>\n",
       "      <td>1369363182683381764</td>\n",
       "      <td>888342558182711297</td>\n",
       "      <td>İbrahim Yıldız</td>\n",
       "      <td>Stratejist_57</td>\n",
       "      <td>NaN</td>\n",
       "      <td>YarımKalmışHukukHikayesi</td>\n",
       "      <td>2017-07-21 10:19:05+00:00</td>\n",
       "      <td>2021</td>\n",
       "      <td>3</td>\n",
       "      <td>9</td>\n",
       "      <td>82 yaşında alzheimer hastası bir insanı bile c...</td>\n",
       "      <td>Liberalism</td>\n",
       "    </tr>\n",
       "  </tbody>\n",
       "</table>\n",
       "</div>"
      ],
      "text/plain": [
       "  Annotator  #                 created_at               id_str  \\\n",
       "0     final  1  2021-08-18 11:38:30+00:00  1427958076259377160   \n",
       "1     final  2  2013-05-03 18:22:37+00:00   330386930283978753   \n",
       "2     final  3  2021-03-09 19:03:18+00:00  1369363182683381764   \n",
       "\n",
       "          user_id_str       user_name user_screen_name user_location  \\\n",
       "0           351646870     Bülent USLU   bulentuslu1903      İSTANBUL   \n",
       "1           460548834      hasan bora          pasivat       suadiye   \n",
       "2  888342558182711297  İbrahim Yıldız    Stratejist_57           NaN   \n",
       "\n",
       "            user_description            user_created_at  created_at_year  \\\n",
       "0  🦅Beşiktaş Kongre Üyesi🦅🤍🖤  2011-08-09 15:05:57+00:00             2021   \n",
       "1    https://t.co/HZ3jPWGoZH  2012-01-10 21:45:27+00:00             2013   \n",
       "2   YarımKalmışHukukHikayesi  2017-07-21 10:19:05+00:00             2021   \n",
       "\n",
       "   created_at_month  created_at_day  \\\n",
       "0                 8              18   \n",
       "1                 5               3   \n",
       "2                 3               9   \n",
       "\n",
       "                                           full_text        label  \n",
       "0  Caner’in dudak okumasıyla ettiği küfürler için...  No_ideology  \n",
       "1  Herkese iyi akşamlar hafta sonunuz çok çok güz...  No_ideology  \n",
       "2  82 yaşında alzheimer hastası bir insanı bile c...   Liberalism  "
      ]
     },
     "execution_count": 23,
     "metadata": {},
     "output_type": "execute_result"
    }
   ],
   "source": [
    "final_annotator.head(3)"
   ]
  },
  {
   "cell_type": "code",
   "execution_count": 24,
   "id": "1b7cf236",
   "metadata": {},
   "outputs": [
    {
     "data": {
      "text/plain": [
       "(23370, 15)"
      ]
     },
     "execution_count": 24,
     "metadata": {},
     "output_type": "execute_result"
    }
   ],
   "source": [
    "all_annotators.shape"
   ]
  },
  {
   "cell_type": "code",
   "execution_count": 25,
   "id": "899bfcd8",
   "metadata": {},
   "outputs": [
    {
     "data": {
      "text/plain": [
       "(23370, 15)"
      ]
     },
     "execution_count": 25,
     "metadata": {},
     "output_type": "execute_result"
    }
   ],
   "source": [
    "final_annotator.shape"
   ]
  },
  {
   "cell_type": "code",
   "execution_count": 26,
   "id": "72561472",
   "metadata": {},
   "outputs": [
    {
     "name": "stdout",
     "output_type": "stream",
     "text": [
      "<class 'pandas.core.frame.DataFrame'>\n",
      "RangeIndex: 23370 entries, 0 to 23369\n",
      "Data columns (total 15 columns):\n",
      " #   Column            Non-Null Count  Dtype \n",
      "---  ------            --------------  ----- \n",
      " 0   Annotator         23370 non-null  object\n",
      " 1   #                 23370 non-null  int64 \n",
      " 2   created_at        23370 non-null  object\n",
      " 3   id_str            23370 non-null  int64 \n",
      " 4   user_id_str       23370 non-null  int64 \n",
      " 5   user_name         23370 non-null  object\n",
      " 6   user_screen_name  23370 non-null  object\n",
      " 7   user_location     14827 non-null  object\n",
      " 8   user_description  18300 non-null  object\n",
      " 9   user_created_at   23370 non-null  object\n",
      " 10  created_at_year   23370 non-null  int64 \n",
      " 11  created_at_month  23370 non-null  int64 \n",
      " 12  created_at_day    23370 non-null  int64 \n",
      " 13  full_text         23370 non-null  object\n",
      " 14  label             23370 non-null  object\n",
      "dtypes: int64(6), object(9)\n",
      "memory usage: 2.7+ MB\n"
     ]
    }
   ],
   "source": [
    "all_annotators.info()"
   ]
  },
  {
   "cell_type": "code",
   "execution_count": 27,
   "id": "71deb737",
   "metadata": {},
   "outputs": [
    {
     "name": "stdout",
     "output_type": "stream",
     "text": [
      "<class 'pandas.core.frame.DataFrame'>\n",
      "RangeIndex: 23370 entries, 0 to 23369\n",
      "Data columns (total 15 columns):\n",
      " #   Column            Non-Null Count  Dtype \n",
      "---  ------            --------------  ----- \n",
      " 0   Annotator         23370 non-null  object\n",
      " 1   #                 23370 non-null  int64 \n",
      " 2   created_at        23370 non-null  object\n",
      " 3   id_str            23370 non-null  int64 \n",
      " 4   user_id_str       23370 non-null  int64 \n",
      " 5   user_name         23370 non-null  object\n",
      " 6   user_screen_name  23370 non-null  object\n",
      " 7   user_location     14827 non-null  object\n",
      " 8   user_description  18300 non-null  object\n",
      " 9   user_created_at   23370 non-null  object\n",
      " 10  created_at_year   23370 non-null  int64 \n",
      " 11  created_at_month  23370 non-null  int64 \n",
      " 12  created_at_day    23370 non-null  int64 \n",
      " 13  full_text         23370 non-null  object\n",
      " 14  label             23370 non-null  object\n",
      "dtypes: int64(6), object(9)\n",
      "memory usage: 2.7+ MB\n"
     ]
    }
   ],
   "source": [
    "final_annotator.info()"
   ]
  },
  {
   "cell_type": "markdown",
   "id": "68863a6c",
   "metadata": {},
   "source": [
    "- A final check on the consistency between two data revealed that there are 5 rows where texts in two data slightly differ. I will drop them too to get the exact same input variable (X) to use in my models."
   ]
  },
  {
   "cell_type": "code",
   "execution_count": 28,
   "id": "8c8fe72d",
   "metadata": {},
   "outputs": [
    {
     "name": "stdout",
     "output_type": "stream",
     "text": [
      "1664- All annotators:\n",
      "Memura zam teklifi\n",
      "\n",
      "Akıllara ziyan\n",
      "\n",
      "Türkiye’nin içinde olduğu türbülansı çok net gösteriyor\n",
      "\n",
      "İktidar partisi bundan sonra ne konuşsa\n",
      "\n",
      "YALAN, DOLAN…\n",
      "\n",
      "--------------------------------------------------\n",
      "\n",
      "1664- Final annotator:\n",
      "Memura zam teklifi\n",
      "\n",
      "Akıllara ziyan\n",
      "\n",
      "Türkiye’nin içinde olduğu türbülansı çok net gösteriyor\n",
      "\n",
      "İktidar partisi bundan sonra ne konuşsa\n",
      "\n",
      "YALAN, DOLAN...\n",
      "\n",
      "--------------------------------------------------\n",
      "\n",
      "1833- All annotators:\n",
      " \n",
      "\n",
      "--------------------------------------------------\n",
      "\n",
      "1833- Final annotator:\n",
      "Siktirin gidin lan ülkenize hainler  #suriyelileriistemiyoruz\n",
      "\n",
      "--------------------------------------------------\n",
      "\n",
      "9900- All annotators:\n",
      "Bugün Galatasaray maçına hakem @TFF_Org tarafından resmen tetikçi olarak gönderilmiştir. Nihat’ın çocukları, şımarık yalı çocuğu ve ZORLU Center çetesi iş başında. \n",
      "#ALNvGS\n",
      "\n",
      "--------------------------------------------------\n",
      "\n",
      "9900- Final annotator:\n",
      "Bugün Galatasaray maçına hakem @TFF_Org tarafından resmen tetikçi olarak gönderilmiştir. Nihat’ın çocukları, şımarık yalı çocuğu ve ZORLU Center çetesi iş başında. \n",
      "#ALNvGS0\n",
      "\n",
      "--------------------------------------------------\n",
      "\n",
      "15493- All annotators:\n",
      "hürriyet yok\n",
      "ekmek yok\n",
      "hak yok\n",
      "kolların ardından bağlandı\n",
      "kesildi yolbaşların\n",
      "haramilerin gayrısına yaşamak yok..''\n",
      "..\n",
      "Vedat Türkali...\n",
      "\n",
      "--------------------------------------------------\n",
      "\n",
      "15493- Final annotator:\n",
      "'hürriyet yok\n",
      "ekmek yok\n",
      "hak yok\n",
      "kolların ardından bağlandı\n",
      "kesildi yolbaşların\n",
      "haramilerin gayrısına yaşamak yok..''\n",
      "..\n",
      "Vedat Türkali...\n",
      "\n",
      "--------------------------------------------------\n",
      "\n",
      "21001- All annotators:\n",
      "Üniversiteler, ülkelerin ve toplumların lokomotifidir. Onlar ne kadar güçlüyse, ülkeler ve geleceğimiz de o kadar güçlüdür. ABD'yi dünya lideri yapan parasının ya da ordusunun gücü değil, dünyanın en iyi üniversitelerine sahip olmasıdır!..\n",
      "\n",
      "--------------------------------------------------\n",
      "\n",
      "21001- Final annotator:\n",
      "Üniversiteler, ülkelerin ve toplumların lokomotifidir. Onlar ne kadar güçlüyse, ülkeler ve geleceğimiz de o kadar güçlüdür. ABD'yi dünya lideri yapan parasının ya0 da ordusunun gücü değil, dünyanın en iyi üniversitelerine sahip olmasıdır!..\n",
      "\n",
      "--------------------------------------------------\n",
      "\n"
     ]
    }
   ],
   "source": [
    "inconsistent_text_indices = []\n",
    "\n",
    "for i in range(len(all_annotators)):\n",
    "    if all_annotators.loc[i, \"full_text\"] != final_annotator.loc[i, \"full_text\"]:\n",
    "        print(f\"{i}- All annotators:\\n{all_annotators.loc[i, 'full_text']}\\n\\n\" + \"-\"*50 + \"\\n\")\n",
    "        print(f\"{i}- Final annotator:\\n{final_annotator.loc[i, 'full_text']}\\n\\n\" + \"-\"*50+ \"\\n\")\n",
    "        inconsistent_text_indices.append(i)"
   ]
  },
  {
   "cell_type": "code",
   "execution_count": 29,
   "id": "dd4f16f7",
   "metadata": {},
   "outputs": [
    {
     "data": {
      "text/plain": [
       "5"
      ]
     },
     "execution_count": 29,
     "metadata": {},
     "output_type": "execute_result"
    }
   ],
   "source": [
    "len(inconsistent_text_indices)"
   ]
  },
  {
   "cell_type": "code",
   "execution_count": 30,
   "id": "5d2af003",
   "metadata": {},
   "outputs": [],
   "source": [
    "all_annotators = all_annotators.drop(inconsistent_text_indices).reset_index(drop=True)\n",
    "final_annotator = final_annotator.drop(inconsistent_text_indices).reset_index(drop=True)"
   ]
  },
  {
   "cell_type": "markdown",
   "id": "08cf633c",
   "metadata": {},
   "source": [
    "- I want to keep only \"full_text\" and \"label\" columns, since I will work with them in my analysis."
   ]
  },
  {
   "cell_type": "code",
   "execution_count": 31,
   "id": "2085dede",
   "metadata": {},
   "outputs": [],
   "source": [
    "all_annotators = all_annotators[[\"full_text\", \"label\"]]\n",
    "final_annotator = final_annotator[[\"full_text\", \"label\"]]"
   ]
  },
  {
   "cell_type": "code",
   "execution_count": 32,
   "id": "8f4967ee",
   "metadata": {},
   "outputs": [
    {
     "data": {
      "text/html": [
       "<div>\n",
       "<style scoped>\n",
       "    .dataframe tbody tr th:only-of-type {\n",
       "        vertical-align: middle;\n",
       "    }\n",
       "\n",
       "    .dataframe tbody tr th {\n",
       "        vertical-align: top;\n",
       "    }\n",
       "\n",
       "    .dataframe thead th {\n",
       "        text-align: right;\n",
       "    }\n",
       "</style>\n",
       "<table border=\"1\" class=\"dataframe\">\n",
       "  <thead>\n",
       "    <tr style=\"text-align: right;\">\n",
       "      <th></th>\n",
       "      <th>full_text</th>\n",
       "      <th>label</th>\n",
       "    </tr>\n",
       "  </thead>\n",
       "  <tbody>\n",
       "    <tr>\n",
       "      <th>0</th>\n",
       "      <td>Caner’in dudak okumasıyla ettiği küfürler için...</td>\n",
       "      <td>No_ideology</td>\n",
       "    </tr>\n",
       "    <tr>\n",
       "      <th>1</th>\n",
       "      <td>Herkese iyi akşamlar hafta sonunuz çok çok güz...</td>\n",
       "      <td>No_ideology</td>\n",
       "    </tr>\n",
       "    <tr>\n",
       "      <th>2</th>\n",
       "      <td>82 yaşında alzheimer hastası bir insanı bile c...</td>\n",
       "      <td>Liberalism</td>\n",
       "    </tr>\n",
       "  </tbody>\n",
       "</table>\n",
       "</div>"
      ],
      "text/plain": [
       "                                           full_text        label\n",
       "0  Caner’in dudak okumasıyla ettiği küfürler için...  No_ideology\n",
       "1  Herkese iyi akşamlar hafta sonunuz çok çok güz...  No_ideology\n",
       "2  82 yaşında alzheimer hastası bir insanı bile c...   Liberalism"
      ]
     },
     "execution_count": 32,
     "metadata": {},
     "output_type": "execute_result"
    }
   ],
   "source": [
    "all_annotators.head(3)"
   ]
  },
  {
   "cell_type": "code",
   "execution_count": 33,
   "id": "d7b6b131",
   "metadata": {},
   "outputs": [
    {
     "data": {
      "text/html": [
       "<div>\n",
       "<style scoped>\n",
       "    .dataframe tbody tr th:only-of-type {\n",
       "        vertical-align: middle;\n",
       "    }\n",
       "\n",
       "    .dataframe tbody tr th {\n",
       "        vertical-align: top;\n",
       "    }\n",
       "\n",
       "    .dataframe thead th {\n",
       "        text-align: right;\n",
       "    }\n",
       "</style>\n",
       "<table border=\"1\" class=\"dataframe\">\n",
       "  <thead>\n",
       "    <tr style=\"text-align: right;\">\n",
       "      <th></th>\n",
       "      <th>full_text</th>\n",
       "      <th>label</th>\n",
       "    </tr>\n",
       "  </thead>\n",
       "  <tbody>\n",
       "    <tr>\n",
       "      <th>0</th>\n",
       "      <td>Caner’in dudak okumasıyla ettiği küfürler için...</td>\n",
       "      <td>No_ideology</td>\n",
       "    </tr>\n",
       "    <tr>\n",
       "      <th>1</th>\n",
       "      <td>Herkese iyi akşamlar hafta sonunuz çok çok güz...</td>\n",
       "      <td>No_ideology</td>\n",
       "    </tr>\n",
       "    <tr>\n",
       "      <th>2</th>\n",
       "      <td>82 yaşında alzheimer hastası bir insanı bile c...</td>\n",
       "      <td>Liberalism</td>\n",
       "    </tr>\n",
       "  </tbody>\n",
       "</table>\n",
       "</div>"
      ],
      "text/plain": [
       "                                           full_text        label\n",
       "0  Caner’in dudak okumasıyla ettiği küfürler için...  No_ideology\n",
       "1  Herkese iyi akşamlar hafta sonunuz çok çok güz...  No_ideology\n",
       "2  82 yaşında alzheimer hastası bir insanı bile c...   Liberalism"
      ]
     },
     "execution_count": 33,
     "metadata": {},
     "output_type": "execute_result"
    }
   ],
   "source": [
    "final_annotator.head(3)"
   ]
  },
  {
   "cell_type": "code",
   "execution_count": 34,
   "id": "ac134e24",
   "metadata": {},
   "outputs": [
    {
     "data": {
      "text/plain": [
       "(23365, 2)"
      ]
     },
     "execution_count": 34,
     "metadata": {},
     "output_type": "execute_result"
    }
   ],
   "source": [
    "all_annotators.shape"
   ]
  },
  {
   "cell_type": "code",
   "execution_count": 35,
   "id": "332fd988",
   "metadata": {},
   "outputs": [
    {
     "data": {
      "text/plain": [
       "(23365, 2)"
      ]
     },
     "execution_count": 35,
     "metadata": {},
     "output_type": "execute_result"
    }
   ],
   "source": [
    "final_annotator.shape"
   ]
  },
  {
   "cell_type": "code",
   "execution_count": 36,
   "id": "73a2ec57",
   "metadata": {},
   "outputs": [
    {
     "name": "stdout",
     "output_type": "stream",
     "text": [
      "<class 'pandas.core.frame.DataFrame'>\n",
      "RangeIndex: 23365 entries, 0 to 23364\n",
      "Data columns (total 2 columns):\n",
      " #   Column     Non-Null Count  Dtype \n",
      "---  ------     --------------  ----- \n",
      " 0   full_text  23365 non-null  object\n",
      " 1   label      23365 non-null  object\n",
      "dtypes: object(2)\n",
      "memory usage: 365.2+ KB\n"
     ]
    }
   ],
   "source": [
    "all_annotators.info()"
   ]
  },
  {
   "cell_type": "code",
   "execution_count": 37,
   "id": "5f30ee9e",
   "metadata": {},
   "outputs": [
    {
     "name": "stdout",
     "output_type": "stream",
     "text": [
      "<class 'pandas.core.frame.DataFrame'>\n",
      "RangeIndex: 23365 entries, 0 to 23364\n",
      "Data columns (total 2 columns):\n",
      " #   Column     Non-Null Count  Dtype \n",
      "---  ------     --------------  ----- \n",
      " 0   full_text  23365 non-null  object\n",
      " 1   label      23365 non-null  object\n",
      "dtypes: object(2)\n",
      "memory usage: 365.2+ KB\n"
     ]
    }
   ],
   "source": [
    "final_annotator.info()"
   ]
  },
  {
   "cell_type": "code",
   "execution_count": 38,
   "id": "73ead5f1",
   "metadata": {},
   "outputs": [
    {
     "data": {
      "text/plain": [
       "No_ideology            20591\n",
       "Turkish_Nationalism     1244\n",
       "Liberalism               564\n",
       "Islamism                 483\n",
       "Conservatism             277\n",
       "Kemalism                 206\n",
       "Name: label, dtype: int64"
      ]
     },
     "execution_count": 38,
     "metadata": {},
     "output_type": "execute_result"
    }
   ],
   "source": [
    "all_annotators[\"label\"].value_counts()"
   ]
  },
  {
   "cell_type": "code",
   "execution_count": 77,
   "id": "b2c69180",
   "metadata": {},
   "outputs": [
    {
     "data": {
      "text/html": [
       "<div>\n",
       "<style scoped>\n",
       "    .dataframe tbody tr th:only-of-type {\n",
       "        vertical-align: middle;\n",
       "    }\n",
       "\n",
       "    .dataframe tbody tr th {\n",
       "        vertical-align: top;\n",
       "    }\n",
       "\n",
       "    .dataframe thead th {\n",
       "        text-align: right;\n",
       "    }\n",
       "</style>\n",
       "<table border=\"1\" class=\"dataframe\">\n",
       "  <thead>\n",
       "    <tr style=\"text-align: right;\">\n",
       "      <th></th>\n",
       "      <th>label</th>\n",
       "    </tr>\n",
       "  </thead>\n",
       "  <tbody>\n",
       "    <tr>\n",
       "      <th>No_ideology</th>\n",
       "      <td>20591</td>\n",
       "    </tr>\n",
       "    <tr>\n",
       "      <th>Turkish_Nationalism</th>\n",
       "      <td>1244</td>\n",
       "    </tr>\n",
       "    <tr>\n",
       "      <th>Liberalism</th>\n",
       "      <td>564</td>\n",
       "    </tr>\n",
       "    <tr>\n",
       "      <th>Islamism</th>\n",
       "      <td>483</td>\n",
       "    </tr>\n",
       "    <tr>\n",
       "      <th>Conservatism</th>\n",
       "      <td>277</td>\n",
       "    </tr>\n",
       "    <tr>\n",
       "      <th>Kemalism</th>\n",
       "      <td>206</td>\n",
       "    </tr>\n",
       "  </tbody>\n",
       "</table>\n",
       "</div>"
      ],
      "text/plain": [
       "                     label\n",
       "No_ideology          20591\n",
       "Turkish_Nationalism   1244\n",
       "Liberalism             564\n",
       "Islamism               483\n",
       "Conservatism           277\n",
       "Kemalism               206"
      ]
     },
     "execution_count": 77,
     "metadata": {},
     "output_type": "execute_result"
    }
   ],
   "source": [
    "pd.DataFrame(all_annotators[\"label\"].value_counts())"
   ]
  },
  {
   "cell_type": "code",
   "execution_count": 39,
   "id": "9f617f93",
   "metadata": {},
   "outputs": [
    {
     "data": {
      "text/plain": [
       "No_ideology            20813\n",
       "Turkish_Nationalism     1198\n",
       "Liberalism               534\n",
       "Islamism                 380\n",
       "Conservatism             242\n",
       "Kemalism                 198\n",
       "Name: label, dtype: int64"
      ]
     },
     "execution_count": 39,
     "metadata": {},
     "output_type": "execute_result"
    }
   ],
   "source": [
    "final_annotator[\"label\"].value_counts()"
   ]
  },
  {
   "cell_type": "code",
   "execution_count": 78,
   "id": "be6a0ef8",
   "metadata": {},
   "outputs": [
    {
     "data": {
      "text/html": [
       "<div>\n",
       "<style scoped>\n",
       "    .dataframe tbody tr th:only-of-type {\n",
       "        vertical-align: middle;\n",
       "    }\n",
       "\n",
       "    .dataframe tbody tr th {\n",
       "        vertical-align: top;\n",
       "    }\n",
       "\n",
       "    .dataframe thead th {\n",
       "        text-align: right;\n",
       "    }\n",
       "</style>\n",
       "<table border=\"1\" class=\"dataframe\">\n",
       "  <thead>\n",
       "    <tr style=\"text-align: right;\">\n",
       "      <th></th>\n",
       "      <th>label</th>\n",
       "    </tr>\n",
       "  </thead>\n",
       "  <tbody>\n",
       "    <tr>\n",
       "      <th>No_ideology</th>\n",
       "      <td>20813</td>\n",
       "    </tr>\n",
       "    <tr>\n",
       "      <th>Turkish_Nationalism</th>\n",
       "      <td>1198</td>\n",
       "    </tr>\n",
       "    <tr>\n",
       "      <th>Liberalism</th>\n",
       "      <td>534</td>\n",
       "    </tr>\n",
       "    <tr>\n",
       "      <th>Islamism</th>\n",
       "      <td>380</td>\n",
       "    </tr>\n",
       "    <tr>\n",
       "      <th>Conservatism</th>\n",
       "      <td>242</td>\n",
       "    </tr>\n",
       "    <tr>\n",
       "      <th>Kemalism</th>\n",
       "      <td>198</td>\n",
       "    </tr>\n",
       "  </tbody>\n",
       "</table>\n",
       "</div>"
      ],
      "text/plain": [
       "                     label\n",
       "No_ideology          20813\n",
       "Turkish_Nationalism   1198\n",
       "Liberalism             534\n",
       "Islamism               380\n",
       "Conservatism           242\n",
       "Kemalism               198"
      ]
     },
     "execution_count": 78,
     "metadata": {},
     "output_type": "execute_result"
    }
   ],
   "source": [
    "pd.DataFrame(final_annotator[\"label\"].value_counts())"
   ]
  },
  {
   "cell_type": "markdown",
   "id": "79b8aaa5",
   "metadata": {},
   "source": [
    "## Exploring the Disagreements between \"final_annotator\" and \"all_annotators\""
   ]
  },
  {
   "cell_type": "code",
   "execution_count": 40,
   "id": "6cd5134a",
   "metadata": {},
   "outputs": [],
   "source": [
    "disagreement_df = pd.DataFrame(columns=[\"full_text\", \"all_annotators_annotation\", \"final_annotator_annotation\"])\n",
    "\n",
    "for i in range(len(all_annotators)):\n",
    "    if all_annotators.loc[i, \"label\"] != final_annotator.loc[i, \"label\"]:\n",
    "        disagreement_df = disagreement_df.append(pd.Series([all_annotators.loc[i, \"full_text\"], all_annotators.loc[i, \"label\"], final_annotator.loc[i, \"label\"]], index=disagreement_df.columns), ignore_index=True)"
   ]
  },
  {
   "cell_type": "code",
   "execution_count": 41,
   "id": "f1d53df3",
   "metadata": {},
   "outputs": [
    {
     "data": {
      "text/plain": [
       "(235, 3)"
      ]
     },
     "execution_count": 41,
     "metadata": {},
     "output_type": "execute_result"
    }
   ],
   "source": [
    "disagreement_df.shape"
   ]
  },
  {
   "cell_type": "code",
   "execution_count": 42,
   "id": "fd5ca538",
   "metadata": {},
   "outputs": [
    {
     "data": {
      "text/html": [
       "<div>\n",
       "<style scoped>\n",
       "    .dataframe tbody tr th:only-of-type {\n",
       "        vertical-align: middle;\n",
       "    }\n",
       "\n",
       "    .dataframe tbody tr th {\n",
       "        vertical-align: top;\n",
       "    }\n",
       "\n",
       "    .dataframe thead th {\n",
       "        text-align: right;\n",
       "    }\n",
       "</style>\n",
       "<table border=\"1\" class=\"dataframe\">\n",
       "  <thead>\n",
       "    <tr style=\"text-align: right;\">\n",
       "      <th></th>\n",
       "      <th>full_text</th>\n",
       "      <th>all_annotators_annotation</th>\n",
       "      <th>final_annotator_annotation</th>\n",
       "    </tr>\n",
       "  </thead>\n",
       "  <tbody>\n",
       "    <tr>\n",
       "      <th>0</th>\n",
       "      <td>#alkolümedokunma pudra şekeri serbest mi ,hadi...</td>\n",
       "      <td>Islamism</td>\n",
       "      <td>No_ideology</td>\n",
       "    </tr>\n",
       "    <tr>\n",
       "      <th>1</th>\n",
       "      <td>Dünyada 1.5 milyar çinli var bi tutturamadık. ...</td>\n",
       "      <td>Turkish_Nationalism</td>\n",
       "      <td>No_ideology</td>\n",
       "    </tr>\n",
       "    <tr>\n",
       "      <th>2</th>\n",
       "      <td>Babam sohbet arasında kullandığı bir deyimden ...</td>\n",
       "      <td>Conservatism</td>\n",
       "      <td>No_ideology</td>\n",
       "    </tr>\n",
       "  </tbody>\n",
       "</table>\n",
       "</div>"
      ],
      "text/plain": [
       "                                           full_text  \\\n",
       "0  #alkolümedokunma pudra şekeri serbest mi ,hadi...   \n",
       "1  Dünyada 1.5 milyar çinli var bi tutturamadık. ...   \n",
       "2  Babam sohbet arasında kullandığı bir deyimden ...   \n",
       "\n",
       "  all_annotators_annotation final_annotator_annotation  \n",
       "0                  Islamism                No_ideology  \n",
       "1       Turkish_Nationalism                No_ideology  \n",
       "2              Conservatism                No_ideology  "
      ]
     },
     "execution_count": 42,
     "metadata": {},
     "output_type": "execute_result"
    }
   ],
   "source": [
    "disagreement_df.head(3)"
   ]
  },
  {
   "cell_type": "code",
   "execution_count": 43,
   "id": "07953386",
   "metadata": {},
   "outputs": [
    {
     "data": {
      "text/html": [
       "<div>\n",
       "<style scoped>\n",
       "    .dataframe tbody tr th:only-of-type {\n",
       "        vertical-align: middle;\n",
       "    }\n",
       "\n",
       "    .dataframe tbody tr th {\n",
       "        vertical-align: top;\n",
       "    }\n",
       "\n",
       "    .dataframe thead th {\n",
       "        text-align: right;\n",
       "    }\n",
       "</style>\n",
       "<table border=\"1\" class=\"dataframe\">\n",
       "  <thead>\n",
       "    <tr style=\"text-align: right;\">\n",
       "      <th></th>\n",
       "      <th>full_text</th>\n",
       "      <th>all_annotators_annotation</th>\n",
       "      <th>final_annotator_annotation</th>\n",
       "    </tr>\n",
       "  </thead>\n",
       "  <tbody>\n",
       "    <tr>\n",
       "      <th>232</th>\n",
       "      <td>Filistin için dışarı çıkan binlerce kişiye bir...</td>\n",
       "      <td>Islamism</td>\n",
       "      <td>No_ideology</td>\n",
       "    </tr>\n",
       "    <tr>\n",
       "      <th>233</th>\n",
       "      <td>Bence ruhsal rehabilitasyona alalım o arkadaşl...</td>\n",
       "      <td>Liberalism</td>\n",
       "      <td>No_ideology</td>\n",
       "    </tr>\n",
       "    <tr>\n",
       "      <th>234</th>\n",
       "      <td>#AVMlerAcılmasın AVM’ler açmayı nasıl düşünebi...</td>\n",
       "      <td>No_ideology</td>\n",
       "      <td>Liberalism</td>\n",
       "    </tr>\n",
       "  </tbody>\n",
       "</table>\n",
       "</div>"
      ],
      "text/plain": [
       "                                             full_text  \\\n",
       "232  Filistin için dışarı çıkan binlerce kişiye bir...   \n",
       "233  Bence ruhsal rehabilitasyona alalım o arkadaşl...   \n",
       "234  #AVMlerAcılmasın AVM’ler açmayı nasıl düşünebi...   \n",
       "\n",
       "    all_annotators_annotation final_annotator_annotation  \n",
       "232                  Islamism                No_ideology  \n",
       "233                Liberalism                No_ideology  \n",
       "234               No_ideology                 Liberalism  "
      ]
     },
     "execution_count": 43,
     "metadata": {},
     "output_type": "execute_result"
    }
   ],
   "source": [
    "disagreement_df.tail(3)"
   ]
  },
  {
   "cell_type": "code",
   "execution_count": 44,
   "id": "4a850b99",
   "metadata": {},
   "outputs": [
    {
     "data": {
      "text/plain": [
       "No_ideology            228\n",
       "Turkish_Nationalism      6\n",
       "Liberalism               1\n",
       "Name: final_annotator_annotation, dtype: int64"
      ]
     },
     "execution_count": 44,
     "metadata": {},
     "output_type": "execute_result"
    }
   ],
   "source": [
    "disagreement_df[\"final_annotator_annotation\"].value_counts()"
   ]
  },
  {
   "cell_type": "code",
   "execution_count": 45,
   "id": "13a4fc2c",
   "metadata": {},
   "outputs": [
    {
     "data": {
      "text/plain": [
       "Islamism               103\n",
       "Turkish_Nationalism     52\n",
       "Conservatism            35\n",
       "Liberalism              31\n",
       "Kemalism                 8\n",
       "No_ideology              6\n",
       "Name: all_annotators_annotation, dtype: int64"
      ]
     },
     "execution_count": 45,
     "metadata": {},
     "output_type": "execute_result"
    }
   ],
   "source": [
    "disagreement_df[\"all_annotators_annotation\"].value_counts()"
   ]
  },
  {
   "cell_type": "markdown",
   "id": "c199691f",
   "metadata": {},
   "source": [
    "- It seems that most of the time, \"final\" decision turned the label into \"No_ideology\". Here is a mixed sample:"
   ]
  },
  {
   "cell_type": "code",
   "execution_count": 46,
   "id": "aadf5560",
   "metadata": {},
   "outputs": [
    {
     "name": "stdout",
     "output_type": "stream",
     "text": [
      "------------------------------------------------------------\n",
      "Tweet Text:\n",
      "Çıkmış millet birbirinin Vatanseverliğini sorguluyor yaptığı icraatleri yargılıyor!! @varank sayın bakan doğru yoldasınız, aldanmayın dev-solculara\n",
      "\n",
      "All Annotators Annotation:  No_ideology\n",
      "Final Annotator Annotation: Turkish_Nationalism\n",
      "------------------------------------------------------------\n",
      "Tweet Text:\n",
      "Heriflerin Genel Başkanı porno kasedi ile değişiyor\n",
      " yine en çok onlar millete ahlak edebiyatı yapıyor\n",
      "Biz tecavüzcü çıkan Kemalistleri örnek gösterip bütün Kemalistler sapık diyor muyuz? \n",
      "\n",
      "#SAPIK\n",
      "\n",
      "All Annotators Annotation:  Kemalism\n",
      "Final Annotator Annotation: No_ideology\n",
      "------------------------------------------------------------\n",
      "Tweet Text:\n",
      "Ben İstanbulluyum. 25 sene sonra bu şehri kaybedipte, yerel seçimi kazandık konuşmalarını bana yutturamazsın. Devran döndü, iyilik kazandı.\n",
      "\n",
      "All Annotators Annotation:  Conservatism\n",
      "Final Annotator Annotation: No_ideology\n",
      "------------------------------------------------------------\n",
      "Tweet Text:\n",
      "Sonuna kadar devletimizin yanındayız #BirlikteTerörüYeneriz\n",
      "\n",
      "All Annotators Annotation:  No_ideology\n",
      "Final Annotator Annotation: Turkish_Nationalism\n",
      "------------------------------------------------------------\n",
      "Tweet Text:\n",
      "Bulunduğunuz mahalle sınırlarında kaç cami var bir bakın bir de kaç okul var ona bakın. Bugün okulların bir türlü açılamamasının sebebi,yeterli sayıda okul olmaması ve bu yüzden kalabalık sınıflar.her mahalleye 3 cami yerine 3 okul yapılmış olsaydı bugün hiç sorun yoktu.\n",
      "\n",
      "All Annotators Annotation:  Islamism\n",
      "Final Annotator Annotation: No_ideology\n",
      "------------------------------------------------------------\n"
     ]
    }
   ],
   "source": [
    "print(\"-\"*60)\n",
    "for i in disagreement_df.sample(5, random_state=4).index:\n",
    "    print(f\"Tweet Text:\\n{disagreement_df.loc[i, 'full_text']}\\n\")\n",
    "    print(f\"All Annotators Annotation:  {disagreement_df.loc[i, 'all_annotators_annotation']}\")\n",
    "    print(f\"Final Annotator Annotation: {disagreement_df.loc[i, 'final_annotator_annotation']}\")\n",
    "    print(\"-\"*60)"
   ]
  },
  {
   "cell_type": "markdown",
   "id": "6452dc14",
   "metadata": {},
   "source": [
    "## Text Preprocessing"
   ]
  },
  {
   "cell_type": "code",
   "execution_count": 47,
   "id": "1cbff65c",
   "metadata": {},
   "outputs": [],
   "source": [
    "import re\n",
    "import emoji\n",
    "import string"
   ]
  },
  {
   "cell_type": "code",
   "execution_count": 48,
   "id": "03953f10",
   "metadata": {},
   "outputs": [],
   "source": [
    "X = all_annotators[\"full_text\"]\n",
    "X_original = X # keeping an original version to check the differences after preprocessing\n",
    "y_all = all_annotators[\"label\"]\n",
    "y_final = final_annotator[\"label\"]"
   ]
  },
  {
   "cell_type": "markdown",
   "id": "a8a2f2cf",
   "metadata": {},
   "source": [
    "### Lowercasing, De-emojizing & Removing non-alphanumeric characters"
   ]
  },
  {
   "cell_type": "code",
   "execution_count": 49,
   "id": "5bfc9132",
   "metadata": {},
   "outputs": [],
   "source": [
    "# Lowercase Turkish letters\n",
    "X = X.apply(lambda x: x.replace(\"Ç\", \"ç\").replace(\"Ğ\", \"ğ\").replace(\"I\", \"ı\").replace(\"İ\", \"i\").replace(\"Ö\", \"ö\").replace(\"Ş\", \"ş\").replace(\"Ü\", \"ü\"))\n",
    "# Lowercase all letters\n",
    "X = X.apply(lambda x: x.lower())\n",
    "# Replace newline characters (\"\\n\") with space\n",
    "X = X.apply(lambda x: x.replace(\"\\n\", \" \"))"
   ]
  },
  {
   "cell_type": "markdown",
   "id": "ac3b65a9",
   "metadata": {},
   "source": [
    "### Emojis"
   ]
  },
  {
   "cell_type": "code",
   "execution_count": 50,
   "id": "cf750c51",
   "metadata": {},
   "outputs": [],
   "source": [
    "# Add whitespace before and after emojis\n",
    "\n",
    "# search your emoji\n",
    "def is_emoji(s):\n",
    "    return s in emoji.UNICODE_EMOJI\n",
    "\n",
    "# add space near your emoji\n",
    "def add_space(text):\n",
    "    return ''.join(' ' + char if is_emoji(char) else char for char in text).strip()\n",
    "\n",
    "X = X.apply(add_space)"
   ]
  },
  {
   "cell_type": "code",
   "execution_count": 51,
   "id": "018afce5",
   "metadata": {},
   "outputs": [],
   "source": [
    "# De-emojize emojis\n",
    "X = X.apply(lambda x: emoji.demojize(x))"
   ]
  },
  {
   "cell_type": "code",
   "execution_count": 52,
   "id": "a15602f5",
   "metadata": {},
   "outputs": [],
   "source": [
    "def combine_emoji_name(text):\n",
    "    \"\"\"\n",
    "    An example of emoji name --> :smiling_face_with_smiling_eyes:\n",
    "    Output of this function --> smilingfacewithsmilingeyes\n",
    "    The purpose of this function is to keep emoji name as a single word\n",
    "    when the non-alphanumeric characters are replaced with space.\n",
    "    \"\"\"\n",
    "    new_text = [] \n",
    "    \n",
    "    for word in text.split():\n",
    "        if word[0] == \":\" and word[-1] == \":\":\n",
    "            new_text.append(word.translate(str.maketrans('', '', string.punctuation)))\n",
    "        else:\n",
    "            new_text.append(word)\n",
    "    \n",
    "    return ' '.join(new_text)"
   ]
  },
  {
   "cell_type": "code",
   "execution_count": 53,
   "id": "1a592b5f",
   "metadata": {},
   "outputs": [],
   "source": [
    "# Combine emoji words into a single word\n",
    "X = X.apply(combine_emoji_name)"
   ]
  },
  {
   "cell_type": "markdown",
   "id": "c32980f7",
   "metadata": {},
   "source": [
    "### Remove non-alphanumeric characters"
   ]
  },
  {
   "cell_type": "code",
   "execution_count": 54,
   "id": "91be089c",
   "metadata": {},
   "outputs": [],
   "source": [
    "def remove_non_alphanumeric(text):\n",
    "    \"\"\"\n",
    "    Remove non-alphanumeric characters in the text\n",
    "    \"\"\"\n",
    "    \n",
    "    text = re.sub(r\"(?<!\\d)[.,;:](?!\\d)\", \"\", text) # keep .,;: if they are between digits\n",
    "    text = re.sub('[^A-Za-z0-9 #@çğıöşü.,;:%]+',' ', text) # replace non-alphanumeric characters with a space\n",
    "    return text"
   ]
  },
  {
   "cell_type": "code",
   "execution_count": 55,
   "id": "eb4f6f4c",
   "metadata": {},
   "outputs": [],
   "source": [
    "# Replace non-alphanumeric characters with a space\n",
    "X = X.apply(remove_non_alphanumeric)"
   ]
  },
  {
   "cell_type": "code",
   "execution_count": 56,
   "id": "b283cd70",
   "metadata": {},
   "outputs": [
    {
     "name": "stdout",
     "output_type": "stream",
     "text": [
      "Original tweet:      Öyle bir zamandayız ki !\n",
      "Kendi kazdığı kuyuya kendi düşenler bile\n",
      "Kendini Hz. Yusuf ilan ediyor.\n",
      "Preprocessed tweet:  öyle bir zamandayız ki   kendi kazdığı kuyuya kendi düşenler bile kendini hz yusuf ilan ediyor\n",
      "\n",
      "\n",
      "Original tweet:      Bu sıcak ten tene değmemeli🥵😆\n",
      "Preprocessed tweet:  bu sıcak ten tene değmemeli hotface grinningsquintingface\n",
      "\n",
      "\n",
      "Original tweet:      Maske satışı yasak.❌\n",
      "Ptt ile dağıtılacak. ❌\n",
      "E-devlet başvurusu ile dağıtılacak. ❌\n",
      "Şifre ile eczanelerden temin edilecek.❌\n",
      "Çalışanlar iş yerinden temin edecek.❌\n",
      "Hayat Eve Sığar uygulamasından başvuru yapılacak. ❌\n",
      "MASKE SATIŞI SERBEST✅\n",
      "\n",
      "Başınız döndü mü?\n",
      "Preprocessed tweet:  maske satışı yasak crossmark ptt ile dağıtılacak crossmark e devlet başvurusu ile dağıtılacak crossmark şifre ile eczanelerden temin edilecek crossmark çalışanlar iş yerinden temin edecek crossmark hayat eve sığar uygulamasından başvuru yapılacak crossmark maske satışı serbest whiteheavycheckmark başınız döndü mü \n",
      "\n",
      "\n",
      "Original tweet:      Yorumlayın bakalım 90 dk.lik maçı saatlerce.. Siz bu milleti iyice embesil zannettiğiniz galiba.\n",
      "Preprocessed tweet:  yorumlayın bakalım 90 dklik maçı saatlerce siz bu milleti iyice embesil zannettiğiniz galiba\n",
      "\n",
      "\n",
      "Original tweet:      Kişi başına toplam ticaret hacmi\n",
      "\n",
      "İstanbul: 100.000 TL\n",
      "Ardahan:    3.890 TL\n",
      "\n",
      "Bu fark ayrımcılıktır, dengesizlik falan değil...\n",
      "Preprocessed tweet:  kişi başına toplam ticaret hacmi istanbul 100.000 tl ardahan 3.890 tl bu fark ayrımcılıktır dengesizlik falan değil\n",
      "\n",
      "\n"
     ]
    }
   ],
   "source": [
    "for i in X.sample(5, random_state=4).index:\n",
    "    print(f\"Original tweet:      {X_original[i]}\")\n",
    "    print(f\"Preprocessed tweet:  {X[i]}\\n\\n\")"
   ]
  },
  {
   "cell_type": "markdown",
   "id": "16055d9a",
   "metadata": {},
   "source": [
    "### Stop Word Removal"
   ]
  },
  {
   "cell_type": "code",
   "execution_count": 57,
   "id": "a16f8c0b",
   "metadata": {},
   "outputs": [],
   "source": [
    "# Turkish Stop Words\n",
    "trstop = [\n",
    "    'a', 'acaba', 'altı', 'altmış', 'ama', 'ancak', 'arada', 'artık', 'asla', 'aslında', 'aslında', 'ayrıca', 'az', 'bana',\n",
    "    'bazen', 'bazı', 'bazıları', 'belki', 'ben', 'benden', 'beni', 'benim', 'beri', 'beş', 'bile', 'bilhassa', 'bin', 'bir',\n",
    "    'biraz', 'birçoğu', 'birçok', 'biri', 'birisi', 'birkaç', 'birşey', 'biz', 'bizden', 'bize', 'bizi', 'bizim', 'böyle',\n",
    "    'böylece', 'bu', 'buna', 'bunda', 'bundan', 'bunlar', 'bunları', 'bunların', 'bunu', 'bunun', 'burada', 'bütün', 'çoğu',\n",
    "    'çoğunu', 'çok', 'çünkü', 'da', 'daha', 'dahi', 'dan', 'de', 'defa', 'değil', 'diğer', 'diğeri', 'diğerleri', 'diye',\n",
    "    'doksan', 'dokuz', 'dolayı', 'dolayısıyla', 'dört', 'e', 'edecek', 'eden', 'ederek', 'edilecek', 'ediliyor', 'edilmesi',\n",
    "    'ediyor', 'eğer', 'elbette', 'elli', 'en', 'etmesi', 'etti', 'ettiği', 'ettiğini', 'fakat', 'falan', 'filan', 'gene',\n",
    "    'gereği', 'gerek', 'gibi', 'göre', 'hala', 'halde', 'halen', 'hangi', 'hangisi', 'hani', 'hatta', 'hem', 'henüz', 'hep',\n",
    "    'hepsi', 'her', 'herhangi', 'herkes', 'herkese', 'herkesi', 'herkesin', 'hiç', 'hiçbir', 'hiçbiri', 'i', 'ı', 'için',\n",
    "    'içinde', 'iki', 'ile', 'ilgili', 'ise', 'işte', 'itibaren', 'itibariyle', 'kaç', 'kadar', 'karşın', 'kendi', 'kendilerine',\n",
    "    'kendine', 'kendini', 'kendisi', 'kendisine', 'kendisini', 'kez', 'ki', 'kim', 'kime', 'kimi', 'kimin', 'kimisi', 'kimse',\n",
    "    'kırk', 'madem', 'mi', 'mı', 'milyar', 'milyon', 'mu', 'mü', 'nasıl', 'ne', 'neden', 'nedenle', 'nerde', 'nerede', 'nereye',\n",
    "    'neyse', 'niçin', 'nin', 'nın', 'niye', 'nun', 'nün', 'o', 'öbür', 'olan', 'olarak', 'oldu', 'olduğu', 'olduğunu',\n",
    "    'olduklarını', 'olmadı', 'olmadığı', 'olmak', 'olması', 'olmayan', 'olmaz', 'olsa', 'olsun', 'olup', 'olur', 'olur',\n",
    "    'olursa', 'oluyor', 'on', 'ön', 'ona', 'önce', 'ondan', 'onlar', 'onlara', 'onlardan', 'onları', 'onların', 'onu', 'onun',\n",
    "    'orada', 'öte', 'ötürü', 'otuz', 'öyle', 'oysa', 'pek', 'rağmen', 'sana', 'sanki', 'sanki', 'şayet', 'şekilde', 'sekiz',\n",
    "    'seksen', 'sen', 'senden', 'seni', 'senin', 'şey', 'şeyden', 'şeye', 'şeyi', 'şeyler', 'şimdi', 'siz', 'siz', 'sizden',\n",
    "    'sizden', 'size', 'sizi', 'sizi', 'sizin', 'sizin', 'sonra', 'şöyle', 'şu', 'şuna', 'şunları', 'şunu', 'ta', 'tabii',\n",
    "    'tam', 'tamam', 'tamamen', 'tarafından', 'trilyon', 'tüm', 'tümü', 'u', 'ü', 'üç', 'un', 'ün', 'üzere', 'var', 'vardı',\n",
    "    've', 'veya', 'ya', 'yani', 'yapacak', 'yapılan', 'yapılması', 'yapıyor', 'yapmak', 'yaptı', 'yaptığı', 'yaptığını',\n",
    "    'yaptıkları', 'ye', 'yedi', 'yerine', 'yetmiş', 'yi', 'yı', 'yine', 'yirmi', 'yoksa', 'yu', 'yüz', 'zaten', 'zira'\n",
    "] # https://github.com/ahmetax/trstop/blob/master/dosyalar/turkce-stop-words\n",
    "\n",
    "nltk_trstop = [\n",
    "    'acaba', 'ama', 'aslında', 'az', 'bazı', 'belki', 'biri', 'birkaç', 'birşey', 'biz', 'bu', 'çok', 'çünkü', 'da', 'daha',\n",
    "    'de', 'defa', 'diye', 'eğer', 'en', 'gibi', 'hem', 'hep', 'hepsi', 'her', 'hiç', 'için', 'ile', 'ise', 'kez', 'ki', 'kim',\n",
    "    'mı', 'mu', 'mü', 'nasıl', 'ne', 'neden', 'nerde', 'nerede', 'nereye', 'niçin', 'niye', 'o', 'sanki', 'şey', 'siz', 'şu',\n",
    "    'tüm', 've', 'veya', 'ya', 'yani'\n",
    "] # https://github.com/xiamx/node-nltk-stopwords/blob/master/data/stopwords/turkish\n",
    "\n",
    "add_stop = [\n",
    "    'a', 'b', 'c', 'ç', 'd', 'e', 'f', 'g', 'ğ', 'h', 'ı', 'i', 'j', 'k', 'l', 'm', 'n', 'o', 'ö', 'p', 'r', 's', 'ş', 't',\n",
    "    'u', 'ü', 'v', 'y', 'z', 'li', 'lı', 'si', 'sı', 'te', 'ta', 'ın', 'in', 'na', 'ne', 'ler', 'lar', 'de', 'da', 'nın', 'nin',\n",
    "    'lık', 'ım', 'im', 'yok', 'di', 'dı'\n",
    "]\n",
    "\n",
    "stop_words = sorted(list(set(trstop).union(nltk_trstop).union(add_stop)))"
   ]
  },
  {
   "cell_type": "code",
   "execution_count": 58,
   "id": "534439bb",
   "metadata": {},
   "outputs": [],
   "source": [
    "# Stop word removal\n",
    "X = X.apply(lambda x: ' '.join([word for word in x.split() if word not in stop_words]))"
   ]
  },
  {
   "cell_type": "code",
   "execution_count": 59,
   "id": "a0b313b9",
   "metadata": {},
   "outputs": [
    {
     "name": "stdout",
     "output_type": "stream",
     "text": [
      "Original tweet:      Öyle bir zamandayız ki !\n",
      "Kendi kazdığı kuyuya kendi düşenler bile\n",
      "Kendini Hz. Yusuf ilan ediyor.\n",
      "Preprocessed tweet:  zamandayız kazdığı kuyuya düşenler hz yusuf ilan\n",
      "\n",
      "\n",
      "Original tweet:      Bu sıcak ten tene değmemeli🥵😆\n",
      "Preprocessed tweet:  sıcak ten tene değmemeli hotface grinningsquintingface\n",
      "\n",
      "\n",
      "Original tweet:      Maske satışı yasak.❌\n",
      "Ptt ile dağıtılacak. ❌\n",
      "E-devlet başvurusu ile dağıtılacak. ❌\n",
      "Şifre ile eczanelerden temin edilecek.❌\n",
      "Çalışanlar iş yerinden temin edecek.❌\n",
      "Hayat Eve Sığar uygulamasından başvuru yapılacak. ❌\n",
      "MASKE SATIŞI SERBEST✅\n",
      "\n",
      "Başınız döndü mü?\n",
      "Preprocessed tweet:  maske satışı yasak crossmark ptt dağıtılacak crossmark devlet başvurusu dağıtılacak crossmark şifre eczanelerden temin crossmark çalışanlar iş yerinden temin crossmark hayat eve sığar uygulamasından başvuru yapılacak crossmark maske satışı serbest whiteheavycheckmark başınız döndü\n",
      "\n",
      "\n",
      "Original tweet:      Yorumlayın bakalım 90 dk.lik maçı saatlerce.. Siz bu milleti iyice embesil zannettiğiniz galiba.\n",
      "Preprocessed tweet:  yorumlayın bakalım 90 dklik maçı saatlerce milleti iyice embesil zannettiğiniz galiba\n",
      "\n",
      "\n",
      "Original tweet:      Kişi başına toplam ticaret hacmi\n",
      "\n",
      "İstanbul: 100.000 TL\n",
      "Ardahan:    3.890 TL\n",
      "\n",
      "Bu fark ayrımcılıktır, dengesizlik falan değil...\n",
      "Preprocessed tweet:  kişi başına toplam ticaret hacmi istanbul 100.000 tl ardahan 3.890 tl fark ayrımcılıktır dengesizlik\n",
      "\n",
      "\n"
     ]
    }
   ],
   "source": [
    "for i in X.sample(5, random_state=4).index:\n",
    "    print(f\"Original tweet:      {X_original[i]}\")\n",
    "    print(f\"Preprocessed tweet:  {X[i]}\\n\\n\")"
   ]
  },
  {
   "cell_type": "markdown",
   "id": "0b0ee5fa",
   "metadata": {},
   "source": [
    "### Tokenization"
   ]
  },
  {
   "cell_type": "code",
   "execution_count": 60,
   "id": "e4a2cd2d",
   "metadata": {},
   "outputs": [],
   "source": [
    "import nltk"
   ]
  },
  {
   "cell_type": "code",
   "execution_count": 61,
   "id": "6cd1a561",
   "metadata": {},
   "outputs": [],
   "source": [
    "# Tokenize tweets with nltk's TweetTokenizer()\n",
    "tweet_tokenizer = nltk.tokenize.TweetTokenizer()\n",
    "\n",
    "X_tokens = X.apply(lambda x: tweet_tokenizer.tokenize(x))"
   ]
  },
  {
   "cell_type": "markdown",
   "id": "b5f0bd97",
   "metadata": {},
   "source": [
    "### Lemmatization"
   ]
  },
  {
   "cell_type": "code",
   "execution_count": 62,
   "id": "992eb3c0",
   "metadata": {},
   "outputs": [],
   "source": [
    "import time\n",
    "import zeyrek\n",
    "analyzer = zeyrek.MorphAnalyzer()"
   ]
  },
  {
   "cell_type": "code",
   "execution_count": 63,
   "id": "9de7fbf8",
   "metadata": {},
   "outputs": [],
   "source": [
    "def lemmatize(word):\n",
    "    return analyzer.lemmatize(word)[0][1][0]"
   ]
  },
  {
   "cell_type": "code",
   "execution_count": 64,
   "id": "f174c20c",
   "metadata": {
    "scrolled": true
   },
   "outputs": [
    {
     "name": "stdout",
     "output_type": "stream",
     "text": [
      "Lemmatization progress:\n",
      "\n",
      "0/23365 | 0.00%\n",
      "1000/23365 | 4.28%\n",
      "2000/23365 | 8.56%\n",
      "3000/23365 | 12.84%\n",
      "4000/23365 | 17.12%\n",
      "5000/23365 | 21.40%\n",
      "6000/23365 | 25.68%\n",
      "7000/23365 | 29.96%\n",
      "8000/23365 | 34.24%\n",
      "9000/23365 | 38.52%\n",
      "10000/23365 | 42.80%\n",
      "11000/23365 | 47.08%\n",
      "12000/23365 | 51.36%\n",
      "13000/23365 | 55.64%\n",
      "14000/23365 | 59.92%\n",
      "15000/23365 | 64.20%\n",
      "16000/23365 | 68.48%\n",
      "17000/23365 | 72.76%\n",
      "18000/23365 | 77.04%\n",
      "19000/23365 | 81.32%\n",
      "20000/23365 | 85.60%\n",
      "21000/23365 | 89.88%\n",
      "22000/23365 | 94.16%\n",
      "23000/23365 | 98.44%\n",
      "23365/23365 | 100%\n",
      "\n",
      "Lemmatization took 10.64 minutes.\n"
     ]
    }
   ],
   "source": [
    "print(\"Lemmatization progress:\\n\")\n",
    "\n",
    "X_lemmatized = []\n",
    "start_time = time.time()\n",
    "\n",
    "for i in range(len(X_tokens)):\n",
    "    # analyzer.lemmatize() gave error only for the word \"ulemalık\"\n",
    "    X_lemmatized.append([lemmatize(word).lower() if word != \"ulemalık\" and word[0] not in [\"#\",\"@\",\".\",\",\",\";\",\":\",\"%\"] else word.lower() for word in X_tokens[i]])\n",
    "    if i % 1000 == 0:\n",
    "        print(f\"{i}/{len(X_tokens)} | {(i+1)/len(X_tokens)*100:.2f}%\")\n",
    "        \n",
    "print(f\"{len(X_tokens)}/{len(X_tokens)} | 100%\")\n",
    "    \n",
    "X_lemmatized = pd.Series(X_lemmatized)\n",
    "\n",
    "print(f\"\\nLemmatization took {(time.time() - start_time)/60:.2f} minutes.\")"
   ]
  },
  {
   "cell_type": "code",
   "execution_count": 65,
   "id": "79d4bc83",
   "metadata": {},
   "outputs": [],
   "source": [
    "# Removing stop words once more after lemmatization\n",
    "X_lemmatized = X_lemmatized.apply(lambda x: [word for word in x if word not in stop_words])"
   ]
  },
  {
   "cell_type": "code",
   "execution_count": 66,
   "id": "d36ca5be",
   "metadata": {},
   "outputs": [
    {
     "name": "stdout",
     "output_type": "stream",
     "text": [
      "- Original tweet:\n",
      "Öyle bir zamandayız ki !\n",
      "Kendi kazdığı kuyuya kendi düşenler bile\n",
      "Kendini Hz. Yusuf ilan ediyor.\n",
      "- Lemmatized tweet tokens: ['zaman', 'kazmak', 'kuyu', 'düşenler', 'hz', 'yusuf', 'ilân']\n",
      "\n",
      "\n",
      "- Original tweet:\n",
      "Bu sıcak ten tene değmemeli🥵😆\n",
      "- Lemmatized tweet tokens: ['sıcak', 'değmek', 'hotface', 'grinningsquintingface']\n",
      "\n",
      "\n",
      "- Original tweet:\n",
      "Maske satışı yasak.❌\n",
      "Ptt ile dağıtılacak. ❌\n",
      "E-devlet başvurusu ile dağıtılacak. ❌\n",
      "Şifre ile eczanelerden temin edilecek.❌\n",
      "Çalışanlar iş yerinden temin edecek.❌\n",
      "Hayat Eve Sığar uygulamasından başvuru yapılacak. ❌\n",
      "MASKE SATIŞI SERBEST✅\n",
      "\n",
      "Başınız döndü mü?\n",
      "- Lemmatized tweet tokens: ['maske', 'satış', 'yasak', 'crossmark', 'ptt', 'dağıtılacak', 'crossmark', 'devlet', 'başvuru', 'dağıtılacak', 'crossmark', 'şifre', 'eczane', 'crossmark', 'çalışanlar', 'iş', 'yerinde', 'crossmark', 'hayat', 'ev', 'sığmak', 'uygulamak', 'başvuru', 'yapılacak', 'crossmark', 'maske', 'satış', 'serbest', 'whiteheavycheckmark', 'baş', 'dönmek']\n",
      "\n",
      "\n",
      "- Original tweet:\n",
      "Yorumlayın bakalım 90 dk.lik maçı saatlerce.. Siz bu milleti iyice embesil zannettiğiniz galiba.\n",
      "- Lemmatized tweet tokens: ['yorumlamak', 'bakal', '90', 'dklik', 'maç', 'saatlerce', 'millet', 'iyi', 'embesil', 'zannetmek', 'galiba']\n",
      "\n",
      "\n",
      "- Original tweet:\n",
      "Kişi başına toplam ticaret hacmi\n",
      "\n",
      "İstanbul: 100.000 TL\n",
      "Ardahan:    3.890 TL\n",
      "\n",
      "Bu fark ayrımcılıktır, dengesizlik falan değil...\n",
      "- Lemmatized tweet tokens: ['kişi', 'baş', 'toplam', 'ticaret', 'hacim', 'i̇stanbul', '100.000', 'tl', 'ardahan', '3.890', 'tl', 'fark', 'ayrım', 'denge']\n",
      "\n",
      "\n",
      "- Original tweet:\n",
      "O krizden bir kokoreç güzeli çıktı, mutluyuz :)\n",
      "- Lemmatized tweet tokens: ['kriz', 'kokoreç', 'güzel', 'çıktı', 'mut']\n",
      "\n",
      "\n",
      "- Original tweet:\n",
      "Maçın en iyisi şüphesiz #Eskişehir'di.\n",
      "- Lemmatized tweet tokens: ['maç', 'iyi', 'şüphesiz', '#eskişehir']\n",
      "\n",
      "\n",
      "- Original tweet:\n",
      "Gerginliğim artiyor, sinir katsayim 2 ile carpiliyor #YağmurluHavalarDa\n",
      "- Lemmatized tweet tokens: ['gergin', 'artiyor', 'sinir', 'katsayim', '2', 'carpiliyor', '#yağmurluhavalarda']\n",
      "\n",
      "\n",
      "- Original tweet:\n",
      "Bu nasıl bir sanştır arkadaş çekilebilecek en güzel kura 😀😀😀\n",
      "- Lemmatized tweet tokens: ['sanştır', 'arkadaş', 'çekilmek', 'güzel', 'kur', 'grinningface', 'grinningface', 'grinningface']\n",
      "\n",
      "\n",
      "- Original tweet:\n",
      "Millet az bişey iş yaptı ya hemen yasakları getirin\n",
      "- Lemmatized tweet tokens: ['millet', 'bişey', 'iş', 'hemen', 'yasak', 'getiri']\n",
      "\n",
      "\n"
     ]
    }
   ],
   "source": [
    "for i in X.sample(10, random_state=4).index:\n",
    "    print(f\"- Original tweet:\\n{X_original[i]}\")\n",
    "    print(f\"- Lemmatized tweet tokens: {X_lemmatized[i]}\\n\\n\")"
   ]
  },
  {
   "cell_type": "markdown",
   "id": "e2dcd965",
   "metadata": {},
   "source": [
    "### Finalizing Preprocessing\n",
    "\n",
    "- I want to keep tweet versions before and after lemmatization step to compare them later while building models."
   ]
  },
  {
   "cell_type": "code",
   "execution_count": 67,
   "id": "a3f27a5e",
   "metadata": {},
   "outputs": [],
   "source": [
    "X_preprocessed = X_tokens.apply(lambda x: ' '.join(x))\n",
    "X_preprocessed_lemmatized = X_lemmatized.apply(lambda x: ' '.join(x))"
   ]
  },
  {
   "cell_type": "code",
   "execution_count": 68,
   "id": "08673aff",
   "metadata": {},
   "outputs": [
    {
     "name": "stdout",
     "output_type": "stream",
     "text": [
      "14493- X_preprocessed:\n",
      "takip ricamı kırmayan güzel insanların hepsine tek tek teşekkür etmeye çalıştım gözümden kaçan olmuşsa birde burdan edeyim dedim kırmadınız hepinize teşekkür ediyorum sizleri seviyorum hayırlı geceler diliyorum huzurla smilingfacewithsmilingeyes smilingfacewithsmilingeyes wavinghand wavinghand\n",
      "\n",
      "14493- X_preprocessed_lemmatized:\n",
      "takip rica kırmak güzel insan tek tek teşekkür etmek çalışmak göz kaçan bura etmek demek kırmak teşekkür etmek seviyorum hayır gece dilemek huzur smilingfacewithsmilingeyes smilingfacewithsmilingeyes wavinghand wavinghand\n",
      "\n",
      "9245- X_preprocessed:\n",
      "faşizm hastalık tercihtir tercih tercihinin bedelini ödeme vakti geldiğinde deli taklidi yapmasın inandırıcı\n",
      "\n",
      "9245- X_preprocessed_lemmatized:\n",
      "faşizm hastalık tercih tercih tercih bedel ödem vakit gelmek deli taklidî inandırıcı\n",
      "\n",
      "4101- X_preprocessed:\n",
      "bugün yapılacak bilim kurulu toplantısında aşı olmayanların avm lere alınmayacağı planlanırken 1 öğrenciyi 2,5 saat odada tutmaya müsade edebiliyorsunuz #bilimkuruluonlineyapacak @drfahrettinkoca @rterdogan @proffuaterdal @saglikbakanligi @osymbaskanligi\n",
      "\n",
      "4101- X_preprocessed_lemmatized:\n",
      "bugün yapılacak bili kuru toplantı aşı avm lere alınmak planlamak 1 öğrenci 2,5 saat oda tutmak müsade etmek #bilimkuruluonlineyapacak @drfahrettinkoca @rterdogan @proffuaterdal @saglikbakanligi @osymbaskanligi\n",
      "\n",
      "10892- X_preprocessed:\n",
      "çocuklar güzel kötüyüz\n",
      "\n",
      "10892- X_preprocessed_lemmatized:\n",
      "çocuk güzel kötüyüz\n",
      "\n",
      "2671- X_preprocessed:\n",
      "lefter ozel programi saat 23.00 fb tv dekonuklar halit kivanc ismail kurt\n",
      "\n",
      "2671- X_preprocessed_lemmatized:\n",
      "lefter ozel programi saat 23.00 fb tv dekonuklar halit kivanc i̇smail kurt\n",
      "\n"
     ]
    }
   ],
   "source": [
    "# Difference between X_preprocessed and X_preprocessed_lemmatized:\n",
    "\n",
    "for i in X_preprocessed.sample(5, random_state=530).index:\n",
    "    print(f\"{i}- X_preprocessed:\\n{X_preprocessed[i]}\\n\")\n",
    "    print(f\"{i}- X_preprocessed_lemmatized:\\n{X_preprocessed_lemmatized[i]}\\n\")"
   ]
  },
  {
   "cell_type": "code",
   "execution_count": 69,
   "id": "53d62e13",
   "metadata": {},
   "outputs": [],
   "source": [
    "# Export preprocessed data to csv files\n",
    "X_preprocessed.to_csv(\"data/X_preprocessed.csv\", index=False)\n",
    "X_preprocessed_lemmatized.to_csv(\"data/X_preprocessed_lemmatized.csv\", index=False)\n",
    "y_all.to_csv(\"data/y_all.csv\", index=False)\n",
    "y_final.to_csv(\"data/y_final.csv\", index=False)"
   ]
  }
 ],
 "metadata": {
  "kernelspec": {
   "display_name": "Python 3 (ipykernel)",
   "language": "python",
   "name": "python3"
  },
  "language_info": {
   "codemirror_mode": {
    "name": "ipython",
    "version": 3
   },
   "file_extension": ".py",
   "mimetype": "text/x-python",
   "name": "python",
   "nbconvert_exporter": "python",
   "pygments_lexer": "ipython3",
   "version": "3.9.7"
  }
 },
 "nbformat": 4,
 "nbformat_minor": 5
}
